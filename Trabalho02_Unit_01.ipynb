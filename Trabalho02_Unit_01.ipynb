{
  "nbformat": 4,
  "nbformat_minor": 0,
  "metadata": {
    "colab": {
      "name": "Trabalho02_Unit_01.ipynb",
      "provenance": [],
      "collapsed_sections": [],
      "authorship_tag": "ABX9TyMV50uCq3SoiPAxqUdw+17v",
      "include_colab_link": true
    },
    "kernelspec": {
      "name": "python3",
      "display_name": "Python 3"
    },
    "language_info": {
      "name": "python"
    }
  },
  "cells": [
    {
      "cell_type": "markdown",
      "metadata": {
        "id": "view-in-github",
        "colab_type": "text"
      },
      "source": [
        "<a href=\"https://colab.research.google.com/github/alicesbarros/NetworkAnalysis_Trabalho02/blob/main/Trabalho02_Unit_01.ipynb\" target=\"_parent\"><img src=\"https://colab.research.google.com/assets/colab-badge.svg\" alt=\"Open In Colab\"/></a>"
      ]
    },
    {
      "cell_type": "markdown",
      "source": [
        "## Analisando os voos no Brasil\n",
        "Disciplina: Análise de Redes\n",
        "\n",
        "Estudante: Alice Soares Pereira de Barros"
      ],
      "metadata": {
        "id": "D7j-UDnz-gX5"
      }
    },
    {
      "cell_type": "markdown",
      "source": [
        "Antes de começar, vamos executar as células de código abaixo:"
      ],
      "metadata": {
        "id": "aEh3uvRv-Ln9"
      }
    },
    {
      "cell_type": "code",
      "source": [
        "!pip install nxviz=='0.6.3'\n",
        "\n",
        "# Install requirements for scripts\n",
        "!pip install -r requirements_edit.txt"
      ],
      "metadata": {
        "id": "HQ2-0fIa-KLZ"
      },
      "execution_count": null,
      "outputs": []
    },
    {
      "cell_type": "code",
      "source": [
        ""
      ],
      "metadata": {
        "id": "4Yz98JYW-ZC4"
      },
      "execution_count": null,
      "outputs": []
    },
    {
      "cell_type": "markdown",
      "source": [
        "Estudo sobre a Assortatividade da Rede, considerando como atributo a Região onde está localizado o aeroporto.\n",
        "\n",
        "\n",
        "Gerando um Gráfico similar, considerando a Região do Aeroporto como grupo"
      ],
      "metadata": {
        "id": "TfETM3HG9J-H"
      }
    },
    {
      "cell_type": "code",
      "source": [
        ""
      ],
      "metadata": {
        "id": "LaOqR4_J-Bqi"
      },
      "execution_count": null,
      "outputs": []
    },
    {
      "cell_type": "markdown",
      "source": [
        "."
      ],
      "metadata": {
        "id": "JB3MLCjh9TvG"
      }
    },
    {
      "cell_type": "markdown",
      "source": [
        "Realizar uma Análise Bivariada entre o Degree do Node e o Numero Médio de vizinhos (Neighbours)\n",
        "\n",
        "\n",
        "Gerar um gráfico similar, considerando a rede do Brasil e de todas as regiões (Norte, Nordeste, Sul, Sudeste e Centro-Oeste)"
      ],
      "metadata": {
        "id": "nrn35Vy89XEx"
      }
    },
    {
      "cell_type": "code",
      "source": [
        ""
      ],
      "metadata": {
        "id": "pU-KvC6C-A3O"
      },
      "execution_count": null,
      "outputs": []
    },
    {
      "cell_type": "markdown",
      "source": [
        "."
      ],
      "metadata": {
        "id": "moJZBuaE9bpx"
      }
    },
    {
      "cell_type": "markdown",
      "source": [
        "Quantos Componentes conectados existem na malha aérea brasileira (nx.connected_components(G))\n",
        "\n",
        "\n",
        "-> Caracterizando cada componente: quantidade, porcentagem por região"
      ],
      "metadata": {
        "id": "-vUa-zYh9o0e"
      }
    },
    {
      "cell_type": "code",
      "source": [
        ""
      ],
      "metadata": {
        "id": "5gCLffBv9_yG"
      },
      "execution_count": null,
      "outputs": []
    },
    {
      "cell_type": "markdown",
      "source": [
        "."
      ],
      "metadata": {
        "id": "X1awlaPJ9sto"
      }
    },
    {
      "cell_type": "markdown",
      "source": [
        "Criar um cenário simulado, onde se deseja fazer uma viagem, com o seguinte trajeto:\n",
        "Cidade 1 (Norte) -> Cidade 2 (Sul)\n",
        "\n",
        "Cidade 2 (Sul) -> Cidade 3 (Nordeste)\n",
        "\n",
        "Cidade 3 (Nordeste) -> Cidade 4 (Centro-Oeste)\n",
        "\n",
        "Cidade 4 (Centro-Oeste) -> Cidade 5 (Sudeste)\n",
        "\n",
        "usando o conceito do caminho mais curto (nx.shortest_past(G))"
      ],
      "metadata": {
        "id": "_nQp3P_n9t2t"
      }
    },
    {
      "cell_type": "code",
      "source": [
        ""
      ],
      "metadata": {
        "id": "WoKQjGYK9-aL"
      },
      "execution_count": null,
      "outputs": []
    },
    {
      "cell_type": "markdown",
      "source": [
        "."
      ],
      "metadata": {
        "id": "0BlenDwI92Au"
      }
    },
    {
      "cell_type": "markdown",
      "source": [
        "Realizar um estudo sobre o Coeficiente de Clustering considerando a Rede da Malha Aérea Nacional, assim como as sub-redes aéreas de cada região"
      ],
      "metadata": {
        "id": "kaNZHDym93dm"
      }
    },
    {
      "cell_type": "code",
      "source": [
        ""
      ],
      "metadata": {
        "id": "LTcU1nkT97mF"
      },
      "execution_count": null,
      "outputs": []
    }
  ]
}